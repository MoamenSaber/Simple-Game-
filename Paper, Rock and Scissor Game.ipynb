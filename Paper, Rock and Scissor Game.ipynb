{
 "cells": [
  {
   "cell_type": "code",
   "execution_count": null,
   "id": "1d657710",
   "metadata": {},
   "outputs": [
    {
     "name": "stdout",
     "output_type": "stream",
     "text": [
      "-------------------------------------------\n",
      "| Welcom to 'Paper & Rock & Scissor' Game |\n",
      "-------------------------------------------\n"
     ]
    }
   ],
   "source": [
    "import numpy as np \n",
    "\n",
    "def Welcome():\n",
    "    print (\"-------------------------------------------\")\n",
    "    print (\"| Welcom to 'Paper & Rock & Scissor' Game |\")\n",
    "    print (\"-------------------------------------------\")\n",
    "\n",
    "def User ():\n",
    "    UserLuck = input(\"Please choose your LUCK :\\n 1.Paper\\n 2.Rock\\n 3.Scissor \\n\")\n",
    "    while UserLuck.isdigit() == False or int(UserLuck) > 3 or int(UserLuck) < 1: \n",
    "        UserLuck = input(\"Wrong Choice! , Choose (1,2,3) :\")\n",
    "    if int(UserLuck) == 1:\n",
    "        print (\"Your Choice : Paper\" )\n",
    "    if int(UserLuck) == 2:\n",
    "        print (\"Your Choice : Rock\" )\n",
    "    if int(UserLuck) == 3:\n",
    "        print (\"Your Choice : Scissor\" )\n",
    "    return int(UserLuck)\n",
    "\n",
    "def Computer():\n",
    "    ComuterLuck = np.random.randint(1,4)\n",
    "    if ComuterLuck == 1:\n",
    "        print (\"Computer Choice : Paper\")\n",
    "    if ComuterLuck == 2:\n",
    "        print (\"Computer Choice : Rock\" )\n",
    "    if ComuterLuck == 3:\n",
    "        print (\"Computer Choice : Scissor\" )\n",
    "    return ComuterLuck\n",
    "\n",
    "def Luck (User , Computer):\n",
    "        if User == Computer :\n",
    "            print (\"Both have Bad luck ;) Try Again .. \")\n",
    "\n",
    "        elif User == 1 and Computer == 2:\n",
    "            print (\"Well Done 'Paper covers Rock' \")\n",
    "        elif User == 1 and Computer == 3:\n",
    "            print (\"You are Loser! 'The Scissor cut Paper' \")\n",
    "        \n",
    "        elif User == 2 and Computer == 1:\n",
    "            print (\"You are Loser! 'The Paper covers Rock' \")\n",
    "        elif User == 2 and Computer == 3:\n",
    "            print (\"Well Done 'Rock hits Scissor' \")\n",
    "        \n",
    "        elif User == 3 and Computer == 1:\n",
    "            print (\"Well Done 'Scissor cut Paper'\")\n",
    "        elif User == 3 and Computer == 2:\n",
    "            print (\"You are Loser! 'The Rock hits Scissor' \")\n",
    "            \n",
    "while (True):\n",
    "    Welcome()\n",
    "    ULuck = User()\n",
    "    CLuck = Computer()\n",
    "    Luck(ULuck , CLuck)\n",
    "\n",
    "    Again = input(\"Do you need to play again ? (y/n) :\")\n",
    "    if Again.lower()[0] == 'y':\n",
    "        continue\n",
    "    else : \n",
    "        print (\"       ----------------\")\n",
    "        print (\"       |** Thank You **|\")\n",
    "        print (\"       ----------------\")\n",
    "        break \n"
   ]
  },
  {
   "cell_type": "code",
   "execution_count": null,
   "id": "04bb1c99",
   "metadata": {},
   "outputs": [],
   "source": [
    "def User ():\n",
    "    UserLuck = int(input(\"Please choose your luck :\\n 1.Paper\\n 2.Rock\\n 3.Scissor \\n\"))\n",
    "    while UserLuck > 3 or UserLuck < 1  : \n",
    "        UserLuck = int(input(\"Wrong Choice! , Choose (1,2,3) :\"))\n",
    "    if UserLuck == 1:\n",
    "        print (\"Your Choice : Paper\" )\n",
    "    if UserLuck == 2:\n",
    "        print (\"Your Choice : Rock\" )\n",
    "    if UserLuck == 3:\n",
    "        print (\"Your Choice : Scissor\" )\n",
    "    return UserLuck\n"
   ]
  }
 ],
 "metadata": {
  "kernelspec": {
   "display_name": "Python 3 (ipykernel)",
   "language": "python",
   "name": "python3"
  },
  "language_info": {
   "codemirror_mode": {
    "name": "ipython",
    "version": 3
   },
   "file_extension": ".py",
   "mimetype": "text/x-python",
   "name": "python",
   "nbconvert_exporter": "python",
   "pygments_lexer": "ipython3",
   "version": "3.9.13"
  }
 },
 "nbformat": 4,
 "nbformat_minor": 5
}
